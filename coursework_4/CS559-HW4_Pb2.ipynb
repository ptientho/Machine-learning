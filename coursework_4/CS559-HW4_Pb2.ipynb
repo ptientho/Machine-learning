{
 "cells": [
  {
   "cell_type": "code",
   "execution_count": 1,
   "id": "ba9f1bb3",
   "metadata": {},
   "outputs": [],
   "source": [
    "import pandas as pd\n",
    "import numpy as np\n",
    "import math"
   ]
  },
  {
   "cell_type": "code",
   "execution_count": 2,
   "id": "9abfe5fb",
   "metadata": {},
   "outputs": [
    {
     "data": {
      "text/html": [
       "<div>\n",
       "<style scoped>\n",
       "    .dataframe tbody tr th:only-of-type {\n",
       "        vertical-align: middle;\n",
       "    }\n",
       "\n",
       "    .dataframe tbody tr th {\n",
       "        vertical-align: top;\n",
       "    }\n",
       "\n",
       "    .dataframe thead th {\n",
       "        text-align: right;\n",
       "    }\n",
       "</style>\n",
       "<table border=\"1\" class=\"dataframe\">\n",
       "  <thead>\n",
       "    <tr style=\"text-align: right;\">\n",
       "      <th></th>\n",
       "      <th>0</th>\n",
       "      <th>1</th>\n",
       "    </tr>\n",
       "  </thead>\n",
       "  <tbody>\n",
       "    <tr>\n",
       "      <th>0</th>\n",
       "      <td>-6.367092</td>\n",
       "      <td>-0.352406</td>\n",
       "    </tr>\n",
       "    <tr>\n",
       "      <th>1</th>\n",
       "      <td>-0.089791</td>\n",
       "      <td>1.516617</td>\n",
       "    </tr>\n",
       "    <tr>\n",
       "      <th>2</th>\n",
       "      <td>0.228603</td>\n",
       "      <td>-3.400796</td>\n",
       "    </tr>\n",
       "    <tr>\n",
       "      <th>3</th>\n",
       "      <td>-5.373754</td>\n",
       "      <td>-0.346060</td>\n",
       "    </tr>\n",
       "    <tr>\n",
       "      <th>4</th>\n",
       "      <td>-0.252466</td>\n",
       "      <td>2.264652</td>\n",
       "    </tr>\n",
       "    <tr>\n",
       "      <th>...</th>\n",
       "      <td>...</td>\n",
       "      <td>...</td>\n",
       "    </tr>\n",
       "    <tr>\n",
       "      <th>995</th>\n",
       "      <td>-3.250677</td>\n",
       "      <td>-0.814128</td>\n",
       "    </tr>\n",
       "    <tr>\n",
       "      <th>996</th>\n",
       "      <td>-1.307515</td>\n",
       "      <td>1.123990</td>\n",
       "    </tr>\n",
       "    <tr>\n",
       "      <th>997</th>\n",
       "      <td>-2.554552</td>\n",
       "      <td>-4.718175</td>\n",
       "    </tr>\n",
       "    <tr>\n",
       "      <th>998</th>\n",
       "      <td>-0.201516</td>\n",
       "      <td>2.932802</td>\n",
       "    </tr>\n",
       "    <tr>\n",
       "      <th>999</th>\n",
       "      <td>-0.366244</td>\n",
       "      <td>-3.087214</td>\n",
       "    </tr>\n",
       "  </tbody>\n",
       "</table>\n",
       "<p>1000 rows × 2 columns</p>\n",
       "</div>"
      ],
      "text/plain": [
       "            0         1\n",
       "0   -6.367092 -0.352406\n",
       "1   -0.089791  1.516617\n",
       "2    0.228603 -3.400796\n",
       "3   -5.373754 -0.346060\n",
       "4   -0.252466  2.264652\n",
       "..        ...       ...\n",
       "995 -3.250677 -0.814128\n",
       "996 -1.307515  1.123990\n",
       "997 -2.554552 -4.718175\n",
       "998 -0.201516  2.932802\n",
       "999 -0.366244 -3.087214\n",
       "\n",
       "[1000 rows x 2 columns]"
      ]
     },
     "execution_count": 2,
     "metadata": {},
     "output_type": "execute_result"
    }
   ],
   "source": [
    "#read data\n",
    "train_data = pd.read_csv('points.dat.txt',sep=' ', header=None)\n",
    "train_data"
   ]
  },
  {
   "cell_type": "code",
   "execution_count": 3,
   "id": "b7cfdb89",
   "metadata": {},
   "outputs": [],
   "source": [
    "def jointGaussianPdf(dataset, features_num, k, data_idx, mu, sigma):\n",
    "    \n",
    "    point = dataset[data_idx,:]- mu[k,:]\n",
    "    a = np.power(2*np.pi,-features_num/2)*np.sqrt(np.linalg.det(sigma[:,:,k]))\n",
    "    b = np.exp((-1/2)*np.matmul(point,np.matmul(np.linalg.inv(sigma[:,:,k]),np.transpose(point))))\n",
    "                \n",
    "    return a*b"
   ]
  },
  {
   "cell_type": "code",
   "execution_count": 4,
   "id": "fac9be1c",
   "metadata": {},
   "outputs": [],
   "source": [
    "def expectation(dataset,sample_num,k,r,pi,mu,sigma):\n",
    "    #calculate joint gaussian pdf\n",
    "    D = dataset.shape[1] #features\n",
    "    Nk = np.zeros((k,1))\n",
    "    for s in range(0,sample_num):\n",
    "        for c in range(0,k):\n",
    "            r[s,c] = np.multiply(pi[c,:],jointGaussianPdf(dataset,D,c,s,mu,sigma))\n",
    "        \n",
    "    for c in range(0,k):\n",
    "        r[:,c] = np.divide(r[:,c],np.sum(r,axis=1))\n",
    "        Nk[c,:] = np.sum(r[:,c],axis=0)\n",
    "    return r, Nk"
   ]
  },
  {
   "cell_type": "code",
   "execution_count": 5,
   "id": "bdbd2eda",
   "metadata": {},
   "outputs": [],
   "source": [
    "def maximizeMean(dataset,sample_num,k,r,Nk,mu):\n",
    "    \n",
    "    weightedSum = np.zeros((sample_num,dataset.shape[1]))\n",
    "    for c in range(0,k):\n",
    "        for s in range(0,sample_num):\n",
    "            weightedSum[s,:] = r[s,c]*dataset[s,:]\n",
    "        mu[c,:] = np.sum(weightedSum,axis=0)/Nk[c,:]\n",
    "    \n",
    "    return mu"
   ]
  },
  {
   "cell_type": "code",
   "execution_count": 6,
   "id": "abc0453b",
   "metadata": {},
   "outputs": [],
   "source": [
    "def maximizeCovariance(dataset,sample_num,k,r,Nk,mu,sigma):\n",
    "    \n",
    "    weightedCov = np.zeros((dataset.shape[1],dataset.shape[1],k))\n",
    "    for c in range(0,k):\n",
    "        points = dataset - mu[c,:]\n",
    "        weightedCov[:,:,c] = np.matmul(np.multiply(r[:,c],np.transpose(points)),points)\n",
    "        sigma[:,:,c] = weightedCov[:,:,c]/Nk[c,:]\n",
    "    return sigma"
   ]
  },
  {
   "cell_type": "code",
   "execution_count": 7,
   "id": "759d6771",
   "metadata": {},
   "outputs": [],
   "source": [
    "def maximizeMixture(k,sample_num,r,Nk,pi):\n",
    "    for c in range(0,k):\n",
    "        pi[c,:] = Nk[c,:]/sample_num\n",
    "    return pi"
   ]
  },
  {
   "cell_type": "code",
   "execution_count": 8,
   "id": "e42776b6",
   "metadata": {},
   "outputs": [],
   "source": [
    "def EM(dataset,sample_num,k,r,pi,mu,sigma,iter_num):\n",
    "    D = dataset.shape[1] #features\n",
    "    for i in range(0,iter_num):\n",
    "        \n",
    "        #1 evaluate the log-likelihood for sigma pi mu\n",
    "        log_likelihood = np.zeros((sample_num,1))\n",
    "        for d in range(0,sample_num):\n",
    "            likelihood = 0\n",
    "            for c in range(0,k):\n",
    "                #evaluate conditional prob.(gaussian)\n",
    "                likelihood += np.multiply(pi[c,:],jointGaussianPdf(dataset,D,c,d,mu,sigma))\n",
    "            log_likelihood[d,:] = np.log(likelihood)\n",
    "        #print log-likelihood for iteration i\n",
    "        print('log-likelihood for iteration ',i,' is: ',np.sum(log_likelihood,axis=0))\n",
    "\n",
    "        #2 E step: evaluate expectation given current pi, mu, sigma\n",
    "        r, Nk = expectation(dataset,sample_num,k,r,pi,mu,sigma)\n",
    "        #3 M step: evaluate new pi, mu, sigma\n",
    "        mu = maximizeMean(dataset,sample_num,k,r,Nk,mu)\n",
    "        sigma = maximizeCovariance(dataset,sample_num,k,r,Nk,mu,sigma)\n",
    "        pi = maximizeMixture(k,sample_num,r,Nk,pi)\n",
    "        \n",
    "    return pi, mu, sigma"
   ]
  },
  {
   "cell_type": "code",
   "execution_count": 9,
   "id": "c13d8de4",
   "metadata": {},
   "outputs": [],
   "source": [
    "    #define variables\n",
    "    k = 3 #clusters\n",
    "    f = train_data.iloc[0].count() #features\n",
    "    n = train_data[0].count() #samples\n",
    "    X = train_data.to_numpy() #training data: dim = n x f\n",
    "    r = np.zeros((n,k)) #membership weights: dim = n x k\n",
    "    pi = np.zeros((k,1)) #mixture weights: dim = k x 1\n",
    "    mu = np.zeros((k,f)) #means: dim = k x f\n",
    "    sigma = np.zeros((f,f,k)) #covars: dim = f x f x k\n",
    "    nIter = 10 #run EM for 10 iterations\n",
    "    #initialize sigma, pi, mu\n",
    "    for c in range(0,k):\n",
    "        pi[c,:] = 1/k\n",
    "        mu[c,:] = np.mean(X,axis=0)\n",
    "        sigma[:,:,c] = np.cov(X,rowvar=False)"
   ]
  },
  {
   "cell_type": "code",
   "execution_count": 10,
   "id": "9eaa4a0d",
   "metadata": {
    "scrolled": true
   },
   "outputs": [
    {
     "name": "stdout",
     "output_type": "stream",
     "text": [
      "initial pi: \n",
      " [[0.33333333]\n",
      " [0.33333333]\n",
      " [0.33333333]] \n",
      "\n",
      "initial mu: \n",
      " [[-0.82042865 -0.58219397]\n",
      " [-0.82042865 -0.58219397]\n",
      " [-0.82042865 -0.58219397]] \n",
      "\n",
      "initial sigma: \n",
      "\n",
      "[[ 7.9328436  -0.10559592]\n",
      " [-0.10559592  6.2470177 ]]\n",
      "[[ 7.9328436  -0.10559592]\n",
      " [-0.10559592  6.2470177 ]]\n",
      "[[ 7.9328436  -0.10559592]\n",
      " [-0.10559592  6.2470177 ]]\n"
     ]
    }
   ],
   "source": [
    "print('initial pi: \\n', pi,'\\n')\n",
    "print('initial mu: \\n', mu,'\\n')\n",
    "print('initial sigma: \\n')\n",
    "for c in range(0,k):\n",
    "    print(sigma[:,:,c])"
   ]
  },
  {
   "cell_type": "code",
   "execution_count": 11,
   "id": "3cb87a8a",
   "metadata": {
    "scrolled": true
   },
   "outputs": [
    {
     "name": "stdout",
     "output_type": "stream",
     "text": [
      "log-likelihood for iteration  0  is:  [-885.43171119]\n",
      "log-likelihood for iteration  1  is:  [-1521.53552285]\n",
      "log-likelihood for iteration  2  is:  [-1061.65237995]\n",
      "log-likelihood for iteration  3  is:  [-890.3059187]\n",
      "log-likelihood for iteration  4  is:  [-887.41565901]\n",
      "log-likelihood for iteration  5  is:  [-887.43168481]\n",
      "log-likelihood for iteration  6  is:  [-887.43218431]\n",
      "log-likelihood for iteration  7  is:  [-887.43221109]\n",
      "log-likelihood for iteration  8  is:  [-887.43221153]\n",
      "log-likelihood for iteration  9  is:  [-887.43221153]\n"
     ]
    }
   ],
   "source": [
    "pi,mu,sigma = EM(X,n,k,r,pi,mu,sigma,nIter)"
   ]
  },
  {
   "cell_type": "code",
   "execution_count": 12,
   "id": "d4265559",
   "metadata": {},
   "outputs": [
    {
     "name": "stdout",
     "output_type": "stream",
     "text": [
      "final pi is as follows: \n",
      " [[1.00000000e+00]\n",
      " [7.95890073e-17]\n",
      " [6.10258298e-17]] \n",
      "\n",
      "final mu is as follows: \n",
      " [[-0.82042865 -0.58219397]\n",
      " [-0.24552594  1.64909829]\n",
      " [-0.24558495  1.64925094]] \n",
      "\n",
      "final sigma is as follows: \n",
      "\n",
      "[[ 7.92491076 -0.10549033]\n",
      " [-0.10549033  6.24077068]]\n",
      "[[0.19124412 0.09158298]\n",
      " [0.09158298 0.12875877]]\n",
      "[[0.19064662 0.09136423]\n",
      " [0.09136423 0.1283201 ]]\n"
     ]
    }
   ],
   "source": [
    "print('final pi is as follows: \\n', pi,'\\n')\n",
    "print('final mu is as follows: \\n', mu,'\\n')\n",
    "print('final sigma is as follows: \\n')\n",
    "for c in range(0,k):\n",
    "    print(sigma[:,:,c])"
   ]
  }
 ],
 "metadata": {
  "kernelspec": {
   "display_name": "Python 3 (ipykernel)",
   "language": "python",
   "name": "python3"
  },
  "language_info": {
   "codemirror_mode": {
    "name": "ipython",
    "version": 3
   },
   "file_extension": ".py",
   "mimetype": "text/x-python",
   "name": "python",
   "nbconvert_exporter": "python",
   "pygments_lexer": "ipython3",
   "version": "3.9.12"
  }
 },
 "nbformat": 4,
 "nbformat_minor": 5
}
