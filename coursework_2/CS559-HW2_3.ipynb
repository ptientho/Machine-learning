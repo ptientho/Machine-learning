{
 "cells": [
  {
   "cell_type": "code",
   "execution_count": 1,
   "id": "09ec99d7",
   "metadata": {},
   "outputs": [],
   "source": [
    "import math\n",
    "import numpy\n",
    "from numpy import linalg"
   ]
  },
  {
   "cell_type": "code",
   "execution_count": 20,
   "id": "d3267e0f",
   "metadata": {},
   "outputs": [
    {
     "data": {
      "text/plain": [
       "(2, 1)"
      ]
     },
     "execution_count": 20,
     "metadata": {},
     "output_type": "execute_result"
    }
   ],
   "source": [
    "#Given three points\n",
    "p1 = numpy.array([[2],[2]])\n",
    "p2 = numpy.array([[0],[0]])\n",
    "p3 = numpy.array([[-2],[-2]])\n",
    "N = 3\n",
    "p1.shape"
   ]
  },
  {
   "cell_type": "code",
   "execution_count": 3,
   "id": "d6959cbc",
   "metadata": {},
   "outputs": [
    {
     "data": {
      "text/plain": [
       "array([[0.],\n",
       "       [0.]])"
      ]
     },
     "execution_count": 3,
     "metadata": {},
     "output_type": "execute_result"
    }
   ],
   "source": [
    "#calculate mean for both x and y directions\n",
    "Mean = (1/N)*(p1+p2+p3)\n",
    "Mean"
   ]
  },
  {
   "cell_type": "code",
   "execution_count": 4,
   "id": "6dd6e47e",
   "metadata": {},
   "outputs": [
    {
     "data": {
      "text/plain": [
       "array([4.])"
      ]
     },
     "execution_count": 4,
     "metadata": {},
     "output_type": "execute_result"
    }
   ],
   "source": [
    "#calculate covariances\n",
    "Cov_x_y = (p1[0]*p1[1] + p2[0]*p2[1] + p3[0]*p3[1])/(N-1)\n",
    "Cov_y_x = Cov_x_y\n",
    "\n",
    "Cov_y_x"
   ]
  },
  {
   "cell_type": "code",
   "execution_count": 5,
   "id": "54512361",
   "metadata": {},
   "outputs": [
    {
     "data": {
      "text/plain": [
       "array([4.])"
      ]
     },
     "execution_count": 5,
     "metadata": {},
     "output_type": "execute_result"
    }
   ],
   "source": [
    "#calculate variances\n",
    "Var_x = ((p1[0] - Mean[0])**2 + (p2[0] - Mean[0])**2 + (p3[0] - Mean[0])**2)/(N-1)\n",
    "\n",
    "Var_x"
   ]
  },
  {
   "cell_type": "code",
   "execution_count": 6,
   "id": "3313ce7b",
   "metadata": {},
   "outputs": [
    {
     "data": {
      "text/plain": [
       "array([4.])"
      ]
     },
     "execution_count": 6,
     "metadata": {},
     "output_type": "execute_result"
    }
   ],
   "source": [
    "Var_y = ((p1[1] - Mean[1])**2 + (p2[1] - Mean[1])**2 + (p3[1] - Mean[1])**2)/(N-1)\n",
    "\n",
    "Var_y"
   ]
  },
  {
   "cell_type": "code",
   "execution_count": 7,
   "id": "0653cf1e",
   "metadata": {},
   "outputs": [
    {
     "data": {
      "text/plain": [
       "array([[4., 4.],\n",
       "       [4., 4.]])"
      ]
     },
     "execution_count": 7,
     "metadata": {},
     "output_type": "execute_result"
    }
   ],
   "source": [
    "#create covariance matrix\n",
    "\n",
    "Cov_m = numpy.array([[Var_x[0], Cov_x_y[0]],[Cov_y_x[0], Var_y[0]]])\n",
    "Cov_m"
   ]
  },
  {
   "cell_type": "code",
   "execution_count": 8,
   "id": "291be980",
   "metadata": {},
   "outputs": [
    {
     "data": {
      "text/plain": [
       "array([[8., 0.],\n",
       "       [0., 0.]])"
      ]
     },
     "execution_count": 8,
     "metadata": {},
     "output_type": "execute_result"
    }
   ],
   "source": [
    "#find the eigenvalues and corresponding eigenvectors for the covariance matrix\n",
    "#symmetric matrix of covariance matrix\n",
    "sym_cov1 = numpy.matmul(numpy.transpose(Cov_m),Cov_m)\n",
    "w1, v = linalg.eig(sym_cov1)\n",
    "w1  = numpy.sqrt(numpy.round(numpy.diag(w1),2))\n",
    "w1 # the eigenvalues matrix"
   ]
  },
  {
   "cell_type": "code",
   "execution_count": 13,
   "id": "6b01cc06",
   "metadata": {},
   "outputs": [
    {
     "data": {
      "text/plain": [
       "array([[ 0.70710678,  0.70710678],\n",
       "       [-0.70710678,  0.70710678]])"
      ]
     },
     "execution_count": 13,
     "metadata": {},
     "output_type": "execute_result"
    }
   ],
   "source": [
    "v #the orthogonal matrix v for symmetric matrix\n",
    "v_transpose = numpy.transpose(v)\n",
    "v_transpose"
   ]
  },
  {
   "cell_type": "code",
   "execution_count": 16,
   "id": "2aa68238",
   "metadata": {},
   "outputs": [
    {
     "data": {
      "text/plain": [
       "array([[ 0.70710678, -0.70710678],\n",
       "       [ 0.70710678,  0.70710678]])"
      ]
     },
     "execution_count": 16,
     "metadata": {},
     "output_type": "execute_result"
    }
   ],
   "source": [
    "#find symmetric matrix of covariance matrix\n",
    "sym_cov2 = numpy.matmul(Cov_m,numpy.transpose(Cov_m))\n",
    "w2, u = linalg.eig(sym_cov2)\n",
    "u #another orthogonal matrix u for symmetric matrix"
   ]
  },
  {
   "cell_type": "code",
   "execution_count": 18,
   "id": "c12208aa",
   "metadata": {},
   "outputs": [
    {
     "data": {
      "text/plain": [
       "array([4., 4.])"
      ]
     },
     "execution_count": 18,
     "metadata": {},
     "output_type": "execute_result"
    }
   ],
   "source": [
    "#compute first pc\n",
    "pc1 = u[:,0]*w1[0,0]*v_transpose[0,:]\n",
    "pc1"
   ]
  },
  {
   "cell_type": "code",
   "execution_count": 21,
   "id": "e068521c",
   "metadata": {},
   "outputs": [
    {
     "data": {
      "text/plain": [
       "array([16.])"
      ]
     },
     "execution_count": 21,
     "metadata": {},
     "output_type": "execute_result"
    }
   ],
   "source": [
    "s1 = numpy.dot(pc1,p1)\n",
    "s1"
   ]
  },
  {
   "cell_type": "code",
   "execution_count": 23,
   "id": "1d04fa46",
   "metadata": {},
   "outputs": [
    {
     "data": {
      "text/plain": [
       "array([0.])"
      ]
     },
     "execution_count": 23,
     "metadata": {},
     "output_type": "execute_result"
    }
   ],
   "source": [
    "s2 = numpy.dot(pc1,p2)\n",
    "s2"
   ]
  },
  {
   "cell_type": "code",
   "execution_count": 24,
   "id": "acec1369",
   "metadata": {},
   "outputs": [
    {
     "data": {
      "text/plain": [
       "array([-16.])"
      ]
     },
     "execution_count": 24,
     "metadata": {},
     "output_type": "execute_result"
    }
   ],
   "source": [
    "s3 = numpy.dot(pc1,p3)\n",
    "s3"
   ]
  },
  {
   "cell_type": "code",
   "execution_count": 26,
   "id": "ea28afa6",
   "metadata": {},
   "outputs": [
    {
     "data": {
      "text/plain": [
       "255.99999999999994"
      ]
     },
     "execution_count": 26,
     "metadata": {},
     "output_type": "execute_result"
    }
   ],
   "source": [
    "#new variance after projection\n",
    "\n",
    "new_var = numpy.matmul(numpy.transpose(pc1),numpy.matmul(Cov_m,pc1))\n",
    "new_var"
   ]
  },
  {
   "cell_type": "code",
   "execution_count": null,
   "id": "6a99e2be",
   "metadata": {},
   "outputs": [],
   "source": []
  }
 ],
 "metadata": {
  "kernelspec": {
   "display_name": "Python 3 (ipykernel)",
   "language": "python",
   "name": "python3"
  },
  "language_info": {
   "codemirror_mode": {
    "name": "ipython",
    "version": 3
   },
   "file_extension": ".py",
   "mimetype": "text/x-python",
   "name": "python",
   "nbconvert_exporter": "python",
   "pygments_lexer": "ipython3",
   "version": "3.9.12"
  }
 },
 "nbformat": 4,
 "nbformat_minor": 5
}
