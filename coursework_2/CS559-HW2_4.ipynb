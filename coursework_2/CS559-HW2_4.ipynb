{
 "cells": [
  {
   "cell_type": "code",
   "execution_count": 15,
   "id": "09ec99d7",
   "metadata": {},
   "outputs": [],
   "source": [
    "import math\n",
    "import numpy\n",
    "from numpy import linalg\n",
    "import matplotlib.pyplot as plt"
   ]
  },
  {
   "cell_type": "code",
   "execution_count": 12,
   "id": "d3267e0f",
   "metadata": {},
   "outputs": [],
   "source": [
    "#define variables\n",
    "x1 = numpy.array([[4],[2.9]])\n",
    "x4 = numpy.array([[2.5],[1]])\n",
    "x7 = numpy.array([[3.5],[4]])\n",
    "x9 = numpy.array([[2],[2.1]])\n",
    "\n",
    "alpha1 = 0.414 #x1\n",
    "alpha4 = 0.018 #x4\n",
    "alpha7 = 0.018 #x7\n",
    "alpha9 = 0.414 #x9\n",
    "\n",
    "y1 = 1\n",
    "y4 = -1\n",
    "y7 = 1\n",
    "y9 = -1"
   ]
  },
  {
   "cell_type": "code",
   "execution_count": 13,
   "id": "d6959cbc",
   "metadata": {},
   "outputs": [
    {
     "data": {
      "text/plain": [
       "array([[0.846 ],\n",
       "       [0.3852]])"
      ]
     },
     "execution_count": 13,
     "metadata": {},
     "output_type": "execute_result"
    }
   ],
   "source": [
    "#calculate w\n",
    "w = alpha1*y1*x1 + alpha4*y4*x4 + alpha7*y7*x7 + alpha9*y9*x9\n",
    "w"
   ]
  },
  {
   "cell_type": "code",
   "execution_count": 14,
   "id": "6dd6e47e",
   "metadata": {},
   "outputs": [
    {
     "data": {
      "text/plain": [
       "array([[-3.50108]])"
      ]
     },
     "execution_count": 14,
     "metadata": {},
     "output_type": "execute_result"
    }
   ],
   "source": [
    "#calculate b\n",
    "b = 1/y1 - numpy.dot(w.T,x1)\n",
    "b"
   ]
  },
  {
   "cell_type": "code",
   "execution_count": 19,
   "id": "e8fd490f",
   "metadata": {},
   "outputs": [
    {
     "data": {
      "text/plain": [
       "[4.0, 2.5, 3.5, 2.0]"
      ]
     },
     "execution_count": 19,
     "metadata": {},
     "output_type": "execute_result"
    }
   ],
   "source": [
    "xi_1 = [x1[0,0], x4[0,0], x7[0,0], x9[0,0]]\n",
    "xi_2 = [x1[1,0], x4[1,0], x7[1,0], x9[1,0]]"
   ]
  },
  {
   "cell_type": "code",
   "execution_count": 28,
   "id": "af2f7ebb",
   "metadata": {},
   "outputs": [],
   "source": [
    "x2 = numpy.array([[4],[4]])\n",
    "x3 = numpy.array([[1],[2.5]])\n",
    "x5 = numpy.array([[4.9],[4.5]])\n",
    "x6 = numpy.array([[1.9],[1.9]])\n",
    "x8 = numpy.array([[0.5],[1.5]])\n",
    "x10 = numpy.array([[4.5],[2.5]])\n",
    "\n",
    "xi_3 = [x2[0,0], x3[0,0], x5[0,0], x6[0,0], x8[0,0], x10[0,0]]\n",
    "xi_4 = [x2[1,0], x3[1,0], x5[1,0], x6[1,0], x8[0,0], x10[0,0]]"
   ]
  },
  {
   "cell_type": "code",
   "execution_count": 41,
   "id": "ce404224",
   "metadata": {
    "scrolled": true
   },
   "outputs": [
    {
     "data": {
      "text/plain": [
       "[<matplotlib.lines.Line2D at 0x12f867130>]"
      ]
     },
     "execution_count": 41,
     "metadata": {},
     "output_type": "execute_result"
    },
    {
     "data": {
      "image/png": "[encoded data removed]",
      "text/plain": [
       "<Figure size 432x288 with 1 Axes>"
      ]
     },
     "metadata": {
      "needs_background": "light"
     },
     "output_type": "display_data"
    }
   ],
   "source": [
    "plt.xlabel('x_i1')\n",
    "plt.ylabel('x_i2')\n",
    "plt.plot(xi_1, xi_2, color='green', linestyle='dashed', linewidth = 0,\n",
    "         marker='o', markerfacecolor='blue', markersize=6, zorder=1)\n",
    "plt.plot(xi_3, xi_4, color='green', linestyle='dashed', linewidth = 0,\n",
    "         marker='x', markerfacecolor='blue', markersize=6, zorder=2)"
   ]
  },
  {
   "cell_type": "code",
   "execution_count": 53,
   "id": "53f4685f",
   "metadata": {},
   "outputs": [
    {
     "data": {
      "text/plain": [
       "array([[-1.24982905]])"
      ]
     },
     "execution_count": 53,
     "metadata": {},
     "output_type": "execute_result"
    }
   ],
   "source": [
    "#find the distance x6 from hyperplane\n",
    "norm_w = linalg.norm(w)\n",
    "\n",
    "d6 = (numpy.dot(w.T,x6)+b)/norm_w\n",
    "d6"
   ]
  },
  {
   "cell_type": "code",
   "execution_count": 56,
   "id": "9ec9d52e",
   "metadata": {},
   "outputs": [
    {
     "data": {
      "text/plain": [
       "array([[0.20710715]])"
      ]
     },
     "execution_count": 56,
     "metadata": {},
     "output_type": "execute_result"
    }
   ],
   "source": [
    "#classify the point (3,3)\n",
    "z = numpy.array([[3],[3]])\n",
    "val_z = (numpy.dot(w.T,z) + b)/norm_w\n",
    "val_z"
   ]
  },
  {
   "cell_type": "code",
   "execution_count": null,
   "id": "3636428a",
   "metadata": {},
   "outputs": [],
   "source": []
  }
 ],
 "metadata": {
  "kernelspec": {
   "display_name": "Python 3 (ipykernel)",
   "language": "python",
   "name": "python3"
  },
  "language_info": {
   "codemirror_mode": {
    "name": "ipython",
    "version": 3
   },
   "file_extension": ".py",
   "mimetype": "text/x-python",
   "name": "python",
   "nbconvert_exporter": "python",
   "pygments_lexer": "ipython3",
   "version": "3.9.12"
  }
 },
 "nbformat": 4,
 "nbformat_minor": 5
}
