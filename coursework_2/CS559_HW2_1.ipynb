{
 "cells": [
  {
   "cell_type": "code",
   "execution_count": 1,
   "id": "e58a89c7",
   "metadata": {},
   "outputs": [],
   "source": [
    "#import libraries\n",
    "import pandas as pd\n",
    "import numpy as np\n",
    "\n",
    "from sklearn.preprocessing import StandardScaler\n",
    "from sklearn.discriminant_analysis import LinearDiscriminantAnalysis\n",
    "from sklearn.model_selection import train_test_split\n",
    "from sklearn.metrics import classification_report"
   ]
  },
  {
   "cell_type": "code",
   "execution_count": 2,
   "id": "d3291c8c",
   "metadata": {},
   "outputs": [
    {
     "data": {
      "text/html": [
       "<div>\n",
       "<style scoped>\n",
       "    .dataframe tbody tr th:only-of-type {\n",
       "        vertical-align: middle;\n",
       "    }\n",
       "\n",
       "    .dataframe tbody tr th {\n",
       "        vertical-align: top;\n",
       "    }\n",
       "\n",
       "    .dataframe thead th {\n",
       "        text-align: right;\n",
       "    }\n",
       "</style>\n",
       "<table border=\"1\" class=\"dataframe\">\n",
       "  <thead>\n",
       "    <tr style=\"text-align: right;\">\n",
       "      <th></th>\n",
       "      <th>0</th>\n",
       "      <th>1</th>\n",
       "      <th>2</th>\n",
       "      <th>3</th>\n",
       "      <th>4</th>\n",
       "    </tr>\n",
       "  </thead>\n",
       "  <tbody>\n",
       "    <tr>\n",
       "      <th>0</th>\n",
       "      <td>5.1</td>\n",
       "      <td>3.5</td>\n",
       "      <td>1.4</td>\n",
       "      <td>0.2</td>\n",
       "      <td>Iris-setosa</td>\n",
       "    </tr>\n",
       "    <tr>\n",
       "      <th>1</th>\n",
       "      <td>4.9</td>\n",
       "      <td>3.0</td>\n",
       "      <td>1.4</td>\n",
       "      <td>0.2</td>\n",
       "      <td>Iris-setosa</td>\n",
       "    </tr>\n",
       "    <tr>\n",
       "      <th>2</th>\n",
       "      <td>4.7</td>\n",
       "      <td>3.2</td>\n",
       "      <td>1.3</td>\n",
       "      <td>0.2</td>\n",
       "      <td>Iris-setosa</td>\n",
       "    </tr>\n",
       "    <tr>\n",
       "      <th>3</th>\n",
       "      <td>4.6</td>\n",
       "      <td>3.1</td>\n",
       "      <td>1.5</td>\n",
       "      <td>0.2</td>\n",
       "      <td>Iris-setosa</td>\n",
       "    </tr>\n",
       "    <tr>\n",
       "      <th>4</th>\n",
       "      <td>5.0</td>\n",
       "      <td>3.6</td>\n",
       "      <td>1.4</td>\n",
       "      <td>0.2</td>\n",
       "      <td>Iris-setosa</td>\n",
       "    </tr>\n",
       "  </tbody>\n",
       "</table>\n",
       "</div>"
      ],
      "text/plain": [
       "     0    1    2    3            4\n",
       "0  5.1  3.5  1.4  0.2  Iris-setosa\n",
       "1  4.9  3.0  1.4  0.2  Iris-setosa\n",
       "2  4.7  3.2  1.3  0.2  Iris-setosa\n",
       "3  4.6  3.1  1.5  0.2  Iris-setosa\n",
       "4  5.0  3.6  1.4  0.2  Iris-setosa"
      ]
     },
     "execution_count": 2,
     "metadata": {},
     "output_type": "execute_result"
    }
   ],
   "source": [
    "#import data\n",
    "path = 'iris.data'\n",
    "data = pd.read_csv(path, header=None)\n",
    "data.head()"
   ]
  },
  {
   "cell_type": "code",
   "execution_count": 3,
   "id": "c10e0dfc",
   "metadata": {},
   "outputs": [
    {
     "name": "stdout",
     "output_type": "stream",
     "text": [
      "<class 'pandas.core.frame.DataFrame'>\n",
      "RangeIndex: 150 entries, 0 to 149\n",
      "Data columns (total 5 columns):\n",
      " #   Column  Non-Null Count  Dtype  \n",
      "---  ------  --------------  -----  \n",
      " 0   0       150 non-null    float64\n",
      " 1   1       150 non-null    float64\n",
      " 2   2       150 non-null    float64\n",
      " 3   3       150 non-null    float64\n",
      " 4   4       150 non-null    object \n",
      "dtypes: float64(4), object(1)\n",
      "memory usage: 6.0+ KB\n"
     ]
    }
   ],
   "source": [
    "#visualize data\n",
    "data.info()"
   ]
  },
  {
   "cell_type": "code",
   "execution_count": 4,
   "id": "fc7b625f",
   "metadata": {
    "scrolled": false
   },
   "outputs": [
    {
     "data": {
      "text/html": [
       "<div>\n",
       "<style scoped>\n",
       "    .dataframe tbody tr th:only-of-type {\n",
       "        vertical-align: middle;\n",
       "    }\n",
       "\n",
       "    .dataframe tbody tr th {\n",
       "        vertical-align: top;\n",
       "    }\n",
       "\n",
       "    .dataframe thead th {\n",
       "        text-align: right;\n",
       "    }\n",
       "</style>\n",
       "<table border=\"1\" class=\"dataframe\">\n",
       "  <thead>\n",
       "    <tr style=\"text-align: right;\">\n",
       "      <th></th>\n",
       "      <th>0</th>\n",
       "      <th>1</th>\n",
       "      <th>2</th>\n",
       "      <th>3</th>\n",
       "      <th>4</th>\n",
       "    </tr>\n",
       "  </thead>\n",
       "  <tbody>\n",
       "    <tr>\n",
       "      <th>0</th>\n",
       "      <td>5.1</td>\n",
       "      <td>3.5</td>\n",
       "      <td>1.4</td>\n",
       "      <td>0.2</td>\n",
       "      <td>1</td>\n",
       "    </tr>\n",
       "    <tr>\n",
       "      <th>1</th>\n",
       "      <td>4.9</td>\n",
       "      <td>3.0</td>\n",
       "      <td>1.4</td>\n",
       "      <td>0.2</td>\n",
       "      <td>1</td>\n",
       "    </tr>\n",
       "    <tr>\n",
       "      <th>2</th>\n",
       "      <td>4.7</td>\n",
       "      <td>3.2</td>\n",
       "      <td>1.3</td>\n",
       "      <td>0.2</td>\n",
       "      <td>1</td>\n",
       "    </tr>\n",
       "    <tr>\n",
       "      <th>3</th>\n",
       "      <td>4.6</td>\n",
       "      <td>3.1</td>\n",
       "      <td>1.5</td>\n",
       "      <td>0.2</td>\n",
       "      <td>1</td>\n",
       "    </tr>\n",
       "    <tr>\n",
       "      <th>4</th>\n",
       "      <td>5.0</td>\n",
       "      <td>3.6</td>\n",
       "      <td>1.4</td>\n",
       "      <td>0.2</td>\n",
       "      <td>1</td>\n",
       "    </tr>\n",
       "    <tr>\n",
       "      <th>...</th>\n",
       "      <td>...</td>\n",
       "      <td>...</td>\n",
       "      <td>...</td>\n",
       "      <td>...</td>\n",
       "      <td>...</td>\n",
       "    </tr>\n",
       "    <tr>\n",
       "      <th>145</th>\n",
       "      <td>6.7</td>\n",
       "      <td>3.0</td>\n",
       "      <td>5.2</td>\n",
       "      <td>2.3</td>\n",
       "      <td>3</td>\n",
       "    </tr>\n",
       "    <tr>\n",
       "      <th>146</th>\n",
       "      <td>6.3</td>\n",
       "      <td>2.5</td>\n",
       "      <td>5.0</td>\n",
       "      <td>1.9</td>\n",
       "      <td>3</td>\n",
       "    </tr>\n",
       "    <tr>\n",
       "      <th>147</th>\n",
       "      <td>6.5</td>\n",
       "      <td>3.0</td>\n",
       "      <td>5.2</td>\n",
       "      <td>2.0</td>\n",
       "      <td>3</td>\n",
       "    </tr>\n",
       "    <tr>\n",
       "      <th>148</th>\n",
       "      <td>6.2</td>\n",
       "      <td>3.4</td>\n",
       "      <td>5.4</td>\n",
       "      <td>2.3</td>\n",
       "      <td>3</td>\n",
       "    </tr>\n",
       "    <tr>\n",
       "      <th>149</th>\n",
       "      <td>5.9</td>\n",
       "      <td>3.0</td>\n",
       "      <td>5.1</td>\n",
       "      <td>1.8</td>\n",
       "      <td>3</td>\n",
       "    </tr>\n",
       "  </tbody>\n",
       "</table>\n",
       "<p>150 rows × 5 columns</p>\n",
       "</div>"
      ],
      "text/plain": [
       "       0    1    2    3  4\n",
       "0    5.1  3.5  1.4  0.2  1\n",
       "1    4.9  3.0  1.4  0.2  1\n",
       "2    4.7  3.2  1.3  0.2  1\n",
       "3    4.6  3.1  1.5  0.2  1\n",
       "4    5.0  3.6  1.4  0.2  1\n",
       "..   ...  ...  ...  ... ..\n",
       "145  6.7  3.0  5.2  2.3  3\n",
       "146  6.3  2.5  5.0  1.9  3\n",
       "147  6.5  3.0  5.2  2.0  3\n",
       "148  6.2  3.4  5.4  2.3  3\n",
       "149  5.9  3.0  5.1  1.8  3\n",
       "\n",
       "[150 rows x 5 columns]"
      ]
     },
     "execution_count": 4,
     "metadata": {},
     "output_type": "execute_result"
    }
   ],
   "source": [
    "#convert target column to class number using pandas\n",
    "data.loc[data[4] == 'Iris-setosa', 4] = 1\n",
    "data.loc[data[4] == 'Iris-versicolor', 4] = 2\n",
    "data.loc[data[4] == 'Iris-virginica', 4] = 3\n",
    "data"
   ]
  },
  {
   "cell_type": "code",
   "execution_count": 5,
   "id": "303f20a0",
   "metadata": {},
   "outputs": [
    {
     "name": "stdout",
     "output_type": "stream",
     "text": [
      "0    100\n",
      "1     50\n",
      "Name: 4, dtype: int64\n"
     ]
    }
   ],
   "source": [
    "#select data for label 1 if label = 1 -> 1 else 0\n",
    "data1 = data.copy()\n",
    "data1.loc[(data1[4] == 2) | (data1[4] == 3), 4] = 0\n",
    "print(data1[4].value_counts())"
   ]
  },
  {
   "cell_type": "code",
   "execution_count": 6,
   "id": "473299f5",
   "metadata": {
    "scrolled": false
   },
   "outputs": [
    {
     "name": "stdout",
     "output_type": "stream",
     "text": [
      "0    100\n",
      "1     50\n",
      "Name: 4, dtype: int64\n"
     ]
    }
   ],
   "source": [
    "#select data for label 2 if label = 2 -> 1 else 0\n",
    "data2 = data.copy()\n",
    "data2.loc[(data2[4] == 1) | (data2[4] == 3),4] = 0\n",
    "data2.loc[(data2[4] == 2) ,4] = 1\n",
    "print(data2[4].value_counts())"
   ]
  },
  {
   "cell_type": "code",
   "execution_count": 7,
   "id": "eaf302c6",
   "metadata": {},
   "outputs": [
    {
     "name": "stdout",
     "output_type": "stream",
     "text": [
      "0    100\n",
      "1     50\n",
      "Name: 4, dtype: int64\n"
     ]
    }
   ],
   "source": [
    "#select data for label 3 if label = 3 -> 1 else 0\n",
    "data3 = data.copy()\n",
    "data3.loc[(data3[4] == 1) | (data3[4] == 2), 4] = 0\n",
    "data3.loc[(data3[4] == 3), 4] = 1\n",
    "print(data3[4].value_counts())"
   ]
  },
  {
   "cell_type": "code",
   "execution_count": 8,
   "id": "6b730861",
   "metadata": {
    "scrolled": false
   },
   "outputs": [],
   "source": [
    "#normalize data\n",
    "def norm_data(data):\n",
    "    norm_features = StandardScaler().fit_transform(data.loc[:,0:3])\n",
    "    targets= data[4]\n",
    "    targets = targets.astype(int)\n",
    "    return norm_features, targets\n",
    "\n",
    "norm_features1, targets1 = norm_data(data1) #C1\n",
    "norm_features2, targets2 = norm_data(data2) #C2\n",
    "norm_features3, targets3 = norm_data(data3) #C3"
   ]
  },
  {
   "cell_type": "code",
   "execution_count": 9,
   "id": "de42f5ac",
   "metadata": {},
   "outputs": [],
   "source": [
    "#separate data into train/test sets\n",
    "X_train1, X_test1, y_train1, y_test1 = train_test_split(norm_features1,targets1, test_size=0.25, random_state=42)\n",
    "X_train2, X_test2, y_train2, y_test2 = train_test_split(norm_features2,targets2, test_size=0.25, random_state=42)\n",
    "X_train3, X_test3, y_train3, y_test3 = train_test_split(norm_features3,targets3, test_size=0.25, random_state=42)\n"
   ]
  },
  {
   "cell_type": "code",
   "execution_count": 10,
   "id": "fad5d6cb",
   "metadata": {},
   "outputs": [],
   "source": [
    "#apply LDA\n",
    "lda1 = LinearDiscriminantAnalysis()\n",
    "lda2 = LinearDiscriminantAnalysis()\n",
    "lda3 = LinearDiscriminantAnalysis()\n",
    "X_train1 = lda1.fit_transform(X_train1,y_train1)\n",
    "X_train2 = lda2.fit_transform(X_train2,y_train2)\n",
    "X_train3 = lda3.fit_transform(X_train3,y_train3)"
   ]
  },
  {
   "cell_type": "code",
   "execution_count": 11,
   "id": "68d847d2",
   "metadata": {},
   "outputs": [],
   "source": [
    "#test LDA\n",
    "y_pred1 = lda1.predict(X_test1)\n",
    "y_pred2 = lda2.predict(X_test2)\n",
    "y_pred3 = lda3.predict(X_test3)"
   ]
  },
  {
   "cell_type": "code",
   "execution_count": 12,
   "id": "06fa1beb",
   "metadata": {},
   "outputs": [
    {
     "name": "stdout",
     "output_type": "stream",
     "text": [
      "              precision    recall  f1-score   support\n",
      "\n",
      "  not setosa       1.00      1.00      1.00        23\n",
      "      setosa       1.00      1.00      1.00        15\n",
      "\n",
      "    accuracy                           1.00        38\n",
      "   macro avg       1.00      1.00      1.00        38\n",
      "weighted avg       1.00      1.00      1.00        38\n",
      "\n"
     ]
    }
   ],
   "source": [
    "t_names1 = ['not setosa', 'setosa']\n",
    "t_names2 = ['not versicolor', 'versicolor']\n",
    "t_names3 = ['not verginica', 'verginica']\n",
    "\n",
    "print(classification_report(y_test1,y_pred1, target_names=t_names1))"
   ]
  },
  {
   "cell_type": "code",
   "execution_count": 13,
   "id": "72f427d7",
   "metadata": {},
   "outputs": [
    {
     "name": "stdout",
     "output_type": "stream",
     "text": [
      "                precision    recall  f1-score   support\n",
      "\n",
      "not versicolor       0.83      0.89      0.86        27\n",
      "    versicolor       0.67      0.55      0.60        11\n",
      "\n",
      "      accuracy                           0.79        38\n",
      "     macro avg       0.75      0.72      0.73        38\n",
      "  weighted avg       0.78      0.79      0.78        38\n",
      "\n"
     ]
    }
   ],
   "source": [
    "print(classification_report(y_test2,y_pred2, target_names=t_names2))"
   ]
  },
  {
   "cell_type": "code",
   "execution_count": 14,
   "id": "6efb4148",
   "metadata": {},
   "outputs": [
    {
     "name": "stdout",
     "output_type": "stream",
     "text": [
      "               precision    recall  f1-score   support\n",
      "\n",
      "not verginica       1.00      0.92      0.96        26\n",
      "    verginica       0.86      1.00      0.92        12\n",
      "\n",
      "     accuracy                           0.95        38\n",
      "    macro avg       0.93      0.96      0.94        38\n",
      " weighted avg       0.95      0.95      0.95        38\n",
      "\n"
     ]
    }
   ],
   "source": [
    "print(classification_report(y_test3,y_pred3, target_names=t_names3))"
   ]
  },
  {
   "cell_type": "code",
   "execution_count": null,
   "id": "e36638f6",
   "metadata": {},
   "outputs": [],
   "source": []
  }
 ],
 "metadata": {
  "kernelspec": {
   "display_name": "Python 3 (ipykernel)",
   "language": "python",
   "name": "python3"
  },
  "language_info": {
   "codemirror_mode": {
    "name": "ipython",
    "version": 3
   },
   "file_extension": ".py",
   "mimetype": "text/x-python",
   "name": "python",
   "nbconvert_exporter": "python",
   "pygments_lexer": "ipython3",
   "version": "3.9.12"
  }
 },
 "nbformat": 4,
 "nbformat_minor": 5
}
