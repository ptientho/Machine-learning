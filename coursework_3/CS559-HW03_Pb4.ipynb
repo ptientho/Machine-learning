{
 "cells": [
  {
   "cell_type": "code",
   "execution_count": 1,
   "id": "29edc03f",
   "metadata": {},
   "outputs": [],
   "source": [
    "#import libraries\n",
    "import numpy as np\n",
    "import pandas as pd\n",
    "from sklearn.preprocessing import StandardScaler\n",
    "from sklearn.neighbors import KNeighborsClassifier\n",
    "from sklearn.metrics import classification_report, confusion_matrix\n"
   ]
  },
  {
   "cell_type": "code",
   "execution_count": 2,
   "id": "76eb5228",
   "metadata": {},
   "outputs": [
    {
     "data": {
      "text/html": [
       "<div>\n",
       "<style scoped>\n",
       "    .dataframe tbody tr th:only-of-type {\n",
       "        vertical-align: middle;\n",
       "    }\n",
       "\n",
       "    .dataframe tbody tr th {\n",
       "        vertical-align: top;\n",
       "    }\n",
       "\n",
       "    .dataframe thead th {\n",
       "        text-align: right;\n",
       "    }\n",
       "</style>\n",
       "<table border=\"1\" class=\"dataframe\">\n",
       "  <thead>\n",
       "    <tr style=\"text-align: right;\">\n",
       "      <th></th>\n",
       "      <th>x</th>\n",
       "      <th>y</th>\n",
       "      <th>z</th>\n",
       "      <th>class</th>\n",
       "    </tr>\n",
       "  </thead>\n",
       "  <tbody>\n",
       "    <tr>\n",
       "      <th>0</th>\n",
       "      <td>8.599291</td>\n",
       "      <td>9.729418</td>\n",
       "      <td>6.432371</td>\n",
       "      <td>1</td>\n",
       "    </tr>\n",
       "    <tr>\n",
       "      <th>1</th>\n",
       "      <td>6.592955</td>\n",
       "      <td>0.082556</td>\n",
       "      <td>1.969544</td>\n",
       "      <td>1</td>\n",
       "    </tr>\n",
       "    <tr>\n",
       "      <th>2</th>\n",
       "      <td>5.596471</td>\n",
       "      <td>9.815682</td>\n",
       "      <td>0.027295</td>\n",
       "      <td>1</td>\n",
       "    </tr>\n",
       "    <tr>\n",
       "      <th>3</th>\n",
       "      <td>2.743639</td>\n",
       "      <td>8.783177</td>\n",
       "      <td>4.041946</td>\n",
       "      <td>0</td>\n",
       "    </tr>\n",
       "    <tr>\n",
       "      <th>4</th>\n",
       "      <td>4.458362</td>\n",
       "      <td>5.750222</td>\n",
       "      <td>0.099070</td>\n",
       "      <td>0</td>\n",
       "    </tr>\n",
       "    <tr>\n",
       "      <th>...</th>\n",
       "      <td>...</td>\n",
       "      <td>...</td>\n",
       "      <td>...</td>\n",
       "      <td>...</td>\n",
       "    </tr>\n",
       "    <tr>\n",
       "      <th>995</th>\n",
       "      <td>4.617314</td>\n",
       "      <td>7.700236</td>\n",
       "      <td>5.907128</td>\n",
       "      <td>0</td>\n",
       "    </tr>\n",
       "    <tr>\n",
       "      <th>996</th>\n",
       "      <td>5.453472</td>\n",
       "      <td>1.798360</td>\n",
       "      <td>1.992616</td>\n",
       "      <td>0</td>\n",
       "    </tr>\n",
       "    <tr>\n",
       "      <th>997</th>\n",
       "      <td>2.553853</td>\n",
       "      <td>8.122934</td>\n",
       "      <td>3.970146</td>\n",
       "      <td>0</td>\n",
       "    </tr>\n",
       "    <tr>\n",
       "      <th>998</th>\n",
       "      <td>3.210456</td>\n",
       "      <td>3.342092</td>\n",
       "      <td>7.831479</td>\n",
       "      <td>0</td>\n",
       "    </tr>\n",
       "    <tr>\n",
       "      <th>999</th>\n",
       "      <td>6.930237</td>\n",
       "      <td>2.742352</td>\n",
       "      <td>4.678527</td>\n",
       "      <td>1</td>\n",
       "    </tr>\n",
       "  </tbody>\n",
       "</table>\n",
       "<p>1000 rows × 4 columns</p>\n",
       "</div>"
      ],
      "text/plain": [
       "            x         y         z  class\n",
       "0    8.599291  9.729418  6.432371      1\n",
       "1    6.592955  0.082556  1.969544      1\n",
       "2    5.596471  9.815682  0.027295      1\n",
       "3    2.743639  8.783177  4.041946      0\n",
       "4    4.458362  5.750222  0.099070      0\n",
       "..        ...       ...       ...    ...\n",
       "995  4.617314  7.700236  5.907128      0\n",
       "996  5.453472  1.798360  1.992616      0\n",
       "997  2.553853  8.122934  3.970146      0\n",
       "998  3.210456  3.342092  7.831479      0\n",
       "999  6.930237  2.742352  4.678527      1\n",
       "\n",
       "[1000 rows x 4 columns]"
      ]
     },
     "execution_count": 2,
     "metadata": {},
     "output_type": "execute_result"
    }
   ],
   "source": [
    "#read training data\n",
    "train_set = pd.read_csv('train.csv', header=0)\n",
    "train_set"
   ]
  },
  {
   "cell_type": "code",
   "execution_count": 3,
   "id": "faae724e",
   "metadata": {},
   "outputs": [
    {
     "name": "stdout",
     "output_type": "stream",
     "text": [
      "<class 'pandas.core.frame.DataFrame'>\n",
      "RangeIndex: 1000 entries, 0 to 999\n",
      "Data columns (total 4 columns):\n",
      " #   Column  Non-Null Count  Dtype  \n",
      "---  ------  --------------  -----  \n",
      " 0   x       1000 non-null   float64\n",
      " 1   y       1000 non-null   float64\n",
      " 2   z       1000 non-null   float64\n",
      " 3   class   1000 non-null   int64  \n",
      "dtypes: float64(3), int64(1)\n",
      "memory usage: 31.4 KB\n"
     ]
    }
   ],
   "source": [
    "train_set.info()"
   ]
  },
  {
   "cell_type": "code",
   "execution_count": 4,
   "id": "56137d6d",
   "metadata": {},
   "outputs": [
    {
     "name": "stdout",
     "output_type": "stream",
     "text": [
      "feature shape:  (1000, 3)\n"
     ]
    },
    {
     "data": {
      "text/plain": [
       "array([[ 1.2909373 ,  1.64214887,  0.49931501],\n",
       "       [ 0.58765781, -1.74022951, -1.04276611],\n",
       "       [ 0.23836075,  1.6723947 , -1.71388907],\n",
       "       ...,\n",
       "       [-0.82816586,  1.07888402, -0.35147993],\n",
       "       [-0.59800699, -0.59737263,  0.98276143],\n",
       "       [ 0.70588507, -0.80765324, -0.10670655]])"
      ]
     },
     "execution_count": 4,
     "metadata": {},
     "output_type": "execute_result"
    }
   ],
   "source": [
    "#separate features from labels\n",
    "features = train_set.loc[:,['x','y','z']]\n",
    "labels_train = train_set.loc[:,'class']\n",
    "\n",
    "#normalize features\n",
    "features_train = StandardScaler().fit_transform(features)\n",
    "print('feature shape: ',features_train.shape)\n",
    "features_train #display features"
   ]
  },
  {
   "cell_type": "code",
   "execution_count": 5,
   "id": "019cae9b",
   "metadata": {},
   "outputs": [],
   "source": [
    "#train 3-nearest neighbor classifier from the training dataset\n",
    "\n",
    "threeNeighbors = KNeighborsClassifier(n_neighbors=3)\n",
    "threeClassifier = threeNeighbors.fit(features_train,labels_train)"
   ]
  },
  {
   "cell_type": "code",
   "execution_count": 6,
   "id": "07a309ff",
   "metadata": {},
   "outputs": [
    {
     "data": {
      "text/html": [
       "<div>\n",
       "<style scoped>\n",
       "    .dataframe tbody tr th:only-of-type {\n",
       "        vertical-align: middle;\n",
       "    }\n",
       "\n",
       "    .dataframe tbody tr th {\n",
       "        vertical-align: top;\n",
       "    }\n",
       "\n",
       "    .dataframe thead th {\n",
       "        text-align: right;\n",
       "    }\n",
       "</style>\n",
       "<table border=\"1\" class=\"dataframe\">\n",
       "  <thead>\n",
       "    <tr style=\"text-align: right;\">\n",
       "      <th></th>\n",
       "      <th>ID</th>\n",
       "      <th>x</th>\n",
       "      <th>y</th>\n",
       "      <th>z</th>\n",
       "      <th>actual-class</th>\n",
       "    </tr>\n",
       "  </thead>\n",
       "  <tbody>\n",
       "    <tr>\n",
       "      <th>0</th>\n",
       "      <td>1</td>\n",
       "      <td>8.074807</td>\n",
       "      <td>5.988044</td>\n",
       "      <td>3.844979</td>\n",
       "      <td>1</td>\n",
       "    </tr>\n",
       "    <tr>\n",
       "      <th>1</th>\n",
       "      <td>2</td>\n",
       "      <td>4.952249</td>\n",
       "      <td>5.823205</td>\n",
       "      <td>1.612045</td>\n",
       "      <td>0</td>\n",
       "    </tr>\n",
       "    <tr>\n",
       "      <th>2</th>\n",
       "      <td>3</td>\n",
       "      <td>4.773178</td>\n",
       "      <td>0.078757</td>\n",
       "      <td>4.209442</td>\n",
       "      <td>0</td>\n",
       "    </tr>\n",
       "    <tr>\n",
       "      <th>3</th>\n",
       "      <td>4</td>\n",
       "      <td>9.845919</td>\n",
       "      <td>2.055448</td>\n",
       "      <td>3.525702</td>\n",
       "      <td>1</td>\n",
       "    </tr>\n",
       "    <tr>\n",
       "      <th>4</th>\n",
       "      <td>5</td>\n",
       "      <td>1.612492</td>\n",
       "      <td>1.320515</td>\n",
       "      <td>8.200455</td>\n",
       "      <td>0</td>\n",
       "    </tr>\n",
       "    <tr>\n",
       "      <th>5</th>\n",
       "      <td>6</td>\n",
       "      <td>7.987555</td>\n",
       "      <td>9.188111</td>\n",
       "      <td>7.222228</td>\n",
       "      <td>1</td>\n",
       "    </tr>\n",
       "    <tr>\n",
       "      <th>6</th>\n",
       "      <td>7</td>\n",
       "      <td>0.311558</td>\n",
       "      <td>3.974680</td>\n",
       "      <td>7.897371</td>\n",
       "      <td>0</td>\n",
       "    </tr>\n",
       "    <tr>\n",
       "      <th>7</th>\n",
       "      <td>8</td>\n",
       "      <td>1.219113</td>\n",
       "      <td>0.266045</td>\n",
       "      <td>2.741136</td>\n",
       "      <td>0</td>\n",
       "    </tr>\n",
       "    <tr>\n",
       "      <th>8</th>\n",
       "      <td>9</td>\n",
       "      <td>0.636340</td>\n",
       "      <td>1.831257</td>\n",
       "      <td>6.767459</td>\n",
       "      <td>0</td>\n",
       "    </tr>\n",
       "    <tr>\n",
       "      <th>9</th>\n",
       "      <td>10</td>\n",
       "      <td>0.890168</td>\n",
       "      <td>8.613714</td>\n",
       "      <td>2.884227</td>\n",
       "      <td>0</td>\n",
       "    </tr>\n",
       "    <tr>\n",
       "      <th>10</th>\n",
       "      <td>11</td>\n",
       "      <td>7.226514</td>\n",
       "      <td>9.852794</td>\n",
       "      <td>7.373560</td>\n",
       "      <td>1</td>\n",
       "    </tr>\n",
       "    <tr>\n",
       "      <th>11</th>\n",
       "      <td>12</td>\n",
       "      <td>2.709551</td>\n",
       "      <td>3.719191</td>\n",
       "      <td>5.743540</td>\n",
       "      <td>0</td>\n",
       "    </tr>\n",
       "    <tr>\n",
       "      <th>12</th>\n",
       "      <td>13</td>\n",
       "      <td>2.842368</td>\n",
       "      <td>1.902145</td>\n",
       "      <td>2.216614</td>\n",
       "      <td>0</td>\n",
       "    </tr>\n",
       "    <tr>\n",
       "      <th>13</th>\n",
       "      <td>14</td>\n",
       "      <td>3.610773</td>\n",
       "      <td>4.589548</td>\n",
       "      <td>7.714008</td>\n",
       "      <td>0</td>\n",
       "    </tr>\n",
       "    <tr>\n",
       "      <th>14</th>\n",
       "      <td>15</td>\n",
       "      <td>4.888200</td>\n",
       "      <td>6.720637</td>\n",
       "      <td>7.261562</td>\n",
       "      <td>0</td>\n",
       "    </tr>\n",
       "    <tr>\n",
       "      <th>15</th>\n",
       "      <td>16</td>\n",
       "      <td>8.857224</td>\n",
       "      <td>9.056900</td>\n",
       "      <td>8.862604</td>\n",
       "      <td>1</td>\n",
       "    </tr>\n",
       "    <tr>\n",
       "      <th>16</th>\n",
       "      <td>17</td>\n",
       "      <td>8.239402</td>\n",
       "      <td>9.347802</td>\n",
       "      <td>5.277351</td>\n",
       "      <td>1</td>\n",
       "    </tr>\n",
       "    <tr>\n",
       "      <th>17</th>\n",
       "      <td>18</td>\n",
       "      <td>3.219759</td>\n",
       "      <td>2.980960</td>\n",
       "      <td>6.646886</td>\n",
       "      <td>0</td>\n",
       "    </tr>\n",
       "    <tr>\n",
       "      <th>18</th>\n",
       "      <td>19</td>\n",
       "      <td>2.146974</td>\n",
       "      <td>5.328725</td>\n",
       "      <td>5.801703</td>\n",
       "      <td>0</td>\n",
       "    </tr>\n",
       "    <tr>\n",
       "      <th>19</th>\n",
       "      <td>20</td>\n",
       "      <td>1.156302</td>\n",
       "      <td>8.542813</td>\n",
       "      <td>1.859447</td>\n",
       "      <td>0</td>\n",
       "    </tr>\n",
       "  </tbody>\n",
       "</table>\n",
       "</div>"
      ],
      "text/plain": [
       "    ID         x         y         z  actual-class\n",
       "0    1  8.074807  5.988044  3.844979             1\n",
       "1    2  4.952249  5.823205  1.612045             0\n",
       "2    3  4.773178  0.078757  4.209442             0\n",
       "3    4  9.845919  2.055448  3.525702             1\n",
       "4    5  1.612492  1.320515  8.200455             0\n",
       "5    6  7.987555  9.188111  7.222228             1\n",
       "6    7  0.311558  3.974680  7.897371             0\n",
       "7    8  1.219113  0.266045  2.741136             0\n",
       "8    9  0.636340  1.831257  6.767459             0\n",
       "9   10  0.890168  8.613714  2.884227             0\n",
       "10  11  7.226514  9.852794  7.373560             1\n",
       "11  12  2.709551  3.719191  5.743540             0\n",
       "12  13  2.842368  1.902145  2.216614             0\n",
       "13  14  3.610773  4.589548  7.714008             0\n",
       "14  15  4.888200  6.720637  7.261562             0\n",
       "15  16  8.857224  9.056900  8.862604             1\n",
       "16  17  8.239402  9.347802  5.277351             1\n",
       "17  18  3.219759  2.980960  6.646886             0\n",
       "18  19  2.146974  5.328725  5.801703             0\n",
       "19  20  1.156302  8.542813  1.859447             0"
      ]
     },
     "execution_count": 6,
     "metadata": {},
     "output_type": "execute_result"
    }
   ],
   "source": [
    "#import testing data\n",
    "test_set = pd.read_csv('test.csv')\n",
    "test_set"
   ]
  },
  {
   "cell_type": "code",
   "execution_count": 7,
   "id": "bcba4cad",
   "metadata": {},
   "outputs": [],
   "source": [
    "#separate features from labels in testing set\n",
    "features_test = test_set.loc[:,['x','y','z']]\n",
    "features_test = StandardScaler().fit_transform(features_test)\n",
    "labels_test = test_set.loc[:,'actual-class']"
   ]
  },
  {
   "cell_type": "code",
   "execution_count": 8,
   "id": "8bc408f3",
   "metadata": {},
   "outputs": [
    {
     "data": {
      "text/plain": [
       "array([1, 1, 0, 1, 0, 1, 0, 0, 0, 0, 1, 0, 0, 0, 1, 1, 1, 0, 0, 0])"
      ]
     },
     "execution_count": 8,
     "metadata": {},
     "output_type": "execute_result"
    }
   ],
   "source": [
    "#classify classes for the testing data\n",
    "labels_pred = threeClassifier.predict(features_test)\n",
    "labels_pred"
   ]
  },
  {
   "cell_type": "code",
   "execution_count": 9,
   "id": "0465674e",
   "metadata": {
    "scrolled": true
   },
   "outputs": [
    {
     "data": {
      "text/plain": [
       "array([[0.        , 1.        ],\n",
       "       [0.33333333, 0.66666667],\n",
       "       [1.        , 0.        ],\n",
       "       [0.        , 1.        ],\n",
       "       [1.        , 0.        ],\n",
       "       [0.        , 1.        ],\n",
       "       [1.        , 0.        ],\n",
       "       [1.        , 0.        ],\n",
       "       [1.        , 0.        ],\n",
       "       [1.        , 0.        ],\n",
       "       [0.        , 1.        ],\n",
       "       [1.        , 0.        ],\n",
       "       [1.        , 0.        ],\n",
       "       [1.        , 0.        ],\n",
       "       [0.        , 1.        ],\n",
       "       [0.        , 1.        ],\n",
       "       [0.        , 1.        ],\n",
       "       [1.        , 0.        ],\n",
       "       [1.        , 0.        ],\n",
       "       [1.        , 0.        ]])"
      ]
     },
     "execution_count": 9,
     "metadata": {},
     "output_type": "execute_result"
    }
   ],
   "source": [
    "#estimate the probability for the testing data\n",
    "labels_prob = threeClassifier.predict_proba(features_test)\n",
    "labels_prob"
   ]
  },
  {
   "cell_type": "code",
   "execution_count": 10,
   "id": "229b86ca",
   "metadata": {},
   "outputs": [
    {
     "data": {
      "text/plain": [
       "array([[12,  2],\n",
       "       [ 0,  6]])"
      ]
     },
     "execution_count": 10,
     "metadata": {},
     "output_type": "execute_result"
    }
   ],
   "source": [
    "#create confusion metrix and classification report\n",
    "confusion_metrix_1 = confusion_matrix(labels_test,labels_pred)\n",
    "confusion_metrix_1"
   ]
  },
  {
   "cell_type": "code",
   "execution_count": 11,
   "id": "d52a68d7",
   "metadata": {},
   "outputs": [
    {
     "name": "stdout",
     "output_type": "stream",
     "text": [
      "              precision    recall  f1-score   support\n",
      "\n",
      "           0       1.00      0.86      0.92        14\n",
      "           1       0.75      1.00      0.86         6\n",
      "\n",
      "    accuracy                           0.90        20\n",
      "   macro avg       0.88      0.93      0.89        20\n",
      "weighted avg       0.93      0.90      0.90        20\n",
      "\n"
     ]
    }
   ],
   "source": [
    "print(classification_report(labels_test,labels_pred))"
   ]
  },
  {
   "cell_type": "code",
   "execution_count": 12,
   "id": "1055b216",
   "metadata": {},
   "outputs": [
    {
     "data": {
      "text/plain": [
       "array([[0.21388347, 0.29744062, 0.30803045],\n",
       "       [0.14763209, 0.28948863, 0.3027134 ],\n",
       "       [0.27955823, 0.33040975, 0.4966061 ],\n",
       "       ...,\n",
       "       [0.23978173, 0.2421378 , 0.28354917],\n",
       "       [0.08039089, 0.26069554, 0.29814222],\n",
       "       [0.13211408, 0.15813885, 0.28982672]])"
      ]
     },
     "execution_count": 12,
     "metadata": {},
     "output_type": "execute_result"
    }
   ],
   "source": [
    "#Question(2): create a classifier using Euclidean distance with weighted 3-nearest neighbors(1/d^2)\n",
    "kpoints = threeClassifier.kneighbors()\n",
    "distance = kpoints[0]\n",
    "distance #display the distance"
   ]
  },
  {
   "cell_type": "code",
   "execution_count": 13,
   "id": "12e77360",
   "metadata": {},
   "outputs": [],
   "source": [
    "#calculate the weight from a user-defined function\n",
    "def weighted_dist(distance):\n",
    "    #weight = np.zeros((distance.shape[0],1))\n",
    "    weight = np.zeros(distance.shape)\n",
    "    for i in range(0,len(distance)):\n",
    "        d_square = np.power(distance[i][0] - distance[i][1],2) + np.power(distance[i][0] - distance[i][2],2) + np.power(distance[i][1] - distance[i][2],2)\n",
    "        weight[i] = 1/d_square \n",
    "            \n",
    "    return weight"
   ]
  },
  {
   "cell_type": "code",
   "execution_count": 14,
   "id": "a377c4fc",
   "metadata": {},
   "outputs": [
    {
     "data": {
      "text/plain": [
       "array([[ 62.66608884,  62.66608884,  62.66608884],\n",
       "       [ 22.54873608,  22.54873608,  22.54873608],\n",
       "       [ 12.9337869 ,  12.9337869 ,  12.9337869 ],\n",
       "       ...,\n",
       "       [275.02437082, 275.02437082, 275.02437082],\n",
       "       [ 12.29593932,  12.29593932,  12.29593932],\n",
       "       [ 23.31423077,  23.31423077,  23.31423077]])"
      ]
     },
     "execution_count": 14,
     "metadata": {},
     "output_type": "execute_result"
    }
   ],
   "source": [
    "#this section is intended to display the weight values. However, the callable function is used as the argument.\n",
    "weight = weighted_dist(distance)\n",
    "weight #display the weights"
   ]
  },
  {
   "cell_type": "code",
   "execution_count": 15,
   "id": "bd3ee269",
   "metadata": {},
   "outputs": [],
   "source": [
    "#classifier for 3-nearest neighbors with weight (1/d^2)\n",
    "threeNeighborsWeighted = KNeighborsClassifier(n_neighbors=3, weights=weighted_dist)\n",
    "threeClassifierWeighted = threeNeighborsWeighted.fit(features_train,labels_train)"
   ]
  },
  {
   "cell_type": "code",
   "execution_count": 16,
   "id": "83b56db7",
   "metadata": {},
   "outputs": [
    {
     "data": {
      "text/plain": [
       "array([1, 1, 0, 1, 0, 1, 0, 0, 0, 0, 1, 0, 0, 0, 1, 1, 1, 0, 0, 0])"
      ]
     },
     "execution_count": 16,
     "metadata": {},
     "output_type": "execute_result"
    }
   ],
   "source": [
    "#classify classes for the testing data\n",
    "labels_pred_weighted = threeClassifierWeighted.predict(features_test)\n",
    "labels_pred_weighted"
   ]
  },
  {
   "cell_type": "code",
   "execution_count": 17,
   "id": "9ddedc26",
   "metadata": {},
   "outputs": [
    {
     "data": {
      "text/plain": [
       "array([[0.        , 1.        ],\n",
       "       [0.33333333, 0.66666667],\n",
       "       [1.        , 0.        ],\n",
       "       [0.        , 1.        ],\n",
       "       [1.        , 0.        ],\n",
       "       [0.        , 1.        ],\n",
       "       [1.        , 0.        ],\n",
       "       [1.        , 0.        ],\n",
       "       [1.        , 0.        ],\n",
       "       [1.        , 0.        ],\n",
       "       [0.        , 1.        ],\n",
       "       [1.        , 0.        ],\n",
       "       [1.        , 0.        ],\n",
       "       [1.        , 0.        ],\n",
       "       [0.        , 1.        ],\n",
       "       [0.        , 1.        ],\n",
       "       [0.        , 1.        ],\n",
       "       [1.        , 0.        ],\n",
       "       [1.        , 0.        ],\n",
       "       [1.        , 0.        ]])"
      ]
     },
     "execution_count": 17,
     "metadata": {},
     "output_type": "execute_result"
    }
   ],
   "source": [
    "#estimate the weighted probability for the testing data\n",
    "labels_prob_weighted = threeClassifierWeighted.predict_proba(features_test)\n",
    "labels_prob_weighted"
   ]
  },
  {
   "cell_type": "code",
   "execution_count": 18,
   "id": "255a505e",
   "metadata": {},
   "outputs": [
    {
     "data": {
      "text/plain": [
       "array([[12,  2],\n",
       "       [ 0,  6]])"
      ]
     },
     "execution_count": 18,
     "metadata": {},
     "output_type": "execute_result"
    }
   ],
   "source": [
    "#create confusion metrix and classification report\n",
    "confusion_metrix_2 = confusion_matrix(labels_test,labels_pred_weighted)\n",
    "confusion_metrix_2"
   ]
  },
  {
   "cell_type": "code",
   "execution_count": 19,
   "id": "05fea9a3",
   "metadata": {},
   "outputs": [
    {
     "name": "stdout",
     "output_type": "stream",
     "text": [
      "              precision    recall  f1-score   support\n",
      "\n",
      "           0       1.00      0.86      0.92        14\n",
      "           1       0.75      1.00      0.86         6\n",
      "\n",
      "    accuracy                           0.90        20\n",
      "   macro avg       0.88      0.93      0.89        20\n",
      "weighted avg       0.93      0.90      0.90        20\n",
      "\n"
     ]
    }
   ],
   "source": [
    "print(classification_report(labels_test,labels_pred_weighted))"
   ]
  }
 ],
 "metadata": {
  "kernelspec": {
   "display_name": "Python 3 (ipykernel)",
   "language": "python",
   "name": "python3"
  },
  "language_info": {
   "codemirror_mode": {
    "name": "ipython",
    "version": 3
   },
   "file_extension": ".py",
   "mimetype": "text/x-python",
   "name": "python",
   "nbconvert_exporter": "python",
   "pygments_lexer": "ipython3",
   "version": "3.9.12"
  }
 },
 "nbformat": 4,
 "nbformat_minor": 5
}
