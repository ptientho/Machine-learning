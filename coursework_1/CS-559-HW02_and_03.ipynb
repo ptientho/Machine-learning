{
 "cells": [
  {
   "cell_type": "code",
   "execution_count": null,
   "id": "15b9092b",
   "metadata": {},
   "outputs": [],
   "source": [
    "#calculate maximum likelihood\n",
    "from sympy import *\n",
    "import numpy as np"
   ]
  },
  {
   "cell_type": "code",
   "execution_count": 56,
   "id": "a85aa06a",
   "metadata": {
    "scrolled": true
   },
   "outputs": [
    {
     "data": {
      "text/latex": [
       "$\\displaystyle - 5.0 \\log{\\left(var \\right)} - 9.18938533204673 - \\frac{\\left(112 - \\mu\\right)^{2} + \\left(120 - \\mu\\right)^{2} + \\left(126 - \\mu\\right)^{2} + \\left(131 - \\mu\\right)^{2} + \\left(136 - \\mu\\right)^{2} + \\left(145 - \\mu\\right)^{2} + \\left(148 - \\mu\\right)^{2} + \\left(157 - \\mu\\right)^{2} + \\left(158 - \\mu\\right)^{2} + \\left(176 - \\mu\\right)^{2}}{2 var}$"
      ],
      "text/plain": [
       "-5.0*log(var) - 9.18938533204673 - ((112 - mu)**2 + (120 - mu)**2 + (126 - mu)**2 + (131 - mu)**2 + (136 - mu)**2 + (145 - mu)**2 + (148 - mu)**2 + (157 - mu)**2 + (158 - mu)**2 + (176 - mu)**2)/(2*var)"
      ]
     },
     "execution_count": 56,
     "metadata": {},
     "output_type": "execute_result"
    }
   ],
   "source": [
    "#Problem 2\n",
    "\n",
    "samples = np.array([112,120,131,126,145,158,157,136,148,176])\n",
    "\n",
    "mu = symbols('mu')\n",
    "var = symbols('var')\n",
    "\n",
    "def diff_sq(element,mean):\n",
    "    result = np.square(element - mean)\n",
    "    return result\n",
    "vfunc = np.vectorize(diff_sq)\n",
    "sum_term = np.sum(vfunc(samples,mu))\n",
    "\n",
    "log_likelihood = (-1/(2*var))*sum_term - (samples.size/2)*log(var) - (samples.size/2)*np.log(2*np.pi)\n",
    "log_likelihood"
   ]
  },
  {
   "cell_type": "code",
   "execution_count": 18,
   "id": "58d87e47",
   "metadata": {},
   "outputs": [
    {
     "data": {
      "text/latex": [
       "$\\displaystyle - \\frac{20 \\mu - 2818}{2 var}$"
      ],
      "text/plain": [
       "-(20*mu - 2818)/(2*var)"
      ]
     },
     "execution_count": 18,
     "metadata": {},
     "output_type": "execute_result"
    }
   ],
   "source": [
    "diff_likelihood_2_mu = diff(log_likelihood,mu)\n",
    "diff_likelihood_2_mu"
   ]
  },
  {
   "cell_type": "code",
   "execution_count": 17,
   "id": "5913aa62",
   "metadata": {},
   "outputs": [
    {
     "data": {
      "text/latex": [
       "$\\displaystyle - \\frac{5.0}{var} + \\frac{\\left(112 - \\mu\\right)^{2} + \\left(120 - \\mu\\right)^{2} + \\left(126 - \\mu\\right)^{2} + \\left(131 - \\mu\\right)^{2} + \\left(136 - \\mu\\right)^{2} + \\left(145 - \\mu\\right)^{2} + \\left(148 - \\mu\\right)^{2} + \\left(157 - \\mu\\right)^{2} + \\left(158 - \\mu\\right)^{2} + \\left(176 - \\mu\\right)^{2}}{2 var^{2}}$"
      ],
      "text/plain": [
       "-5.0/var + ((112 - mu)**2 + (120 - mu)**2 + (126 - mu)**2 + (131 - mu)**2 + (136 - mu)**2 + (145 - mu)**2 + (148 - mu)**2 + (157 - mu)**2 + (158 - mu)**2 + (176 - mu)**2)/(2*var**2)"
      ]
     },
     "execution_count": 17,
     "metadata": {},
     "output_type": "execute_result"
    }
   ],
   "source": [
    "diff_likelihiid_2_var = diff(log_likelihood,var)\n",
    "diff_likelihiid_2_var"
   ]
  },
  {
   "cell_type": "code",
   "execution_count": 57,
   "id": "e09edffd",
   "metadata": {},
   "outputs": [
    {
     "data": {
      "text/latex": [
       "$\\displaystyle \\left\\{\\left( 140.9, \\  0\\right), \\left( 140.9, \\  346.69\\right)\\right\\}$"
      ],
      "text/plain": [
       "{(140.9, 0), (140.9, 346.69)}"
      ]
     },
     "execution_count": 57,
     "metadata": {},
     "output_type": "execute_result"
    }
   ],
   "source": [
    "#set derivatives to 0 and solve 2 equations to get mu and var\n",
    "sys = [diff_likelihood_2_mu,diff_likelihiid_2_var]\n",
    "syms = [mu,var]\n",
    "\n",
    "ans = nonlinsolve(sys,syms)\n",
    "ans"
   ]
  },
  {
   "cell_type": "code",
   "execution_count": 59,
   "id": "2669ae49",
   "metadata": {},
   "outputs": [
    {
     "name": "stdout",
     "output_type": "stream",
     "text": [
      "The maximum likelihood for mean and variance is (140.9, 346.69)\n"
     ]
    }
   ],
   "source": [
    "print(f\"The maximum likelihood for mean and variance is {ans.args[0]}\")"
   ]
  },
  {
   "cell_type": "code",
   "execution_count": 38,
   "id": "dd0b5fc9",
   "metadata": {},
   "outputs": [
    {
     "data": {
      "text/latex": [
       "$\\displaystyle \\frac{4 q^{5} \\left(\\frac{1}{3} - \\frac{q}{3}\\right)^{2} \\left(\\frac{2}{3} - \\frac{2 q}{3}\\right)^{3}}{243}$"
      ],
      "text/plain": [
       "4*q**5*(1/3 - q/3)**2*(2/3 - 2*q/3)**3/243"
      ]
     },
     "execution_count": 38,
     "metadata": {},
     "output_type": "execute_result"
    }
   ],
   "source": [
    "#Problem 3\n",
    "\n",
    "q = symbols('q')\n",
    "prob1 = 2*q/3\n",
    "prob2 = q/3\n",
    "prob3 = 2*(1-q)/3\n",
    "prob4 = (1-q)/3\n",
    "\n",
    "#find likelihood based on 10 independent observations\n",
    "likelihood = (prob1**2)*(prob2**3)*(prob3**3)*(prob4**2)\n",
    "likelihood"
   ]
  },
  {
   "cell_type": "code",
   "execution_count": 39,
   "id": "c38764fd",
   "metadata": {},
   "outputs": [
    {
     "data": {
      "text/latex": [
       "$\\displaystyle \\log{\\left(\\frac{4 q^{5} \\left(\\frac{1}{3} - \\frac{q}{3}\\right)^{2} \\left(\\frac{2}{3} - \\frac{2 q}{3}\\right)^{3}}{243} \\right)}$"
      ],
      "text/plain": [
       "log(4*q**5*(1/3 - q/3)**2*(2/3 - 2*q/3)**3/243)"
      ]
     },
     "execution_count": 39,
     "metadata": {},
     "output_type": "execute_result"
    }
   ],
   "source": [
    "log_likelood = log(likelihood)\n",
    "log_likelood"
   ]
  },
  {
   "cell_type": "code",
   "execution_count": 40,
   "id": "fe87057d",
   "metadata": {},
   "outputs": [
    {
     "data": {
      "text/latex": [
       "$\\displaystyle \\frac{243 \\left(- \\frac{8 q^{5} \\left(\\frac{1}{3} - \\frac{q}{3}\\right)^{2} \\left(\\frac{2}{3} - \\frac{2 q}{3}\\right)^{2}}{243} + \\frac{4 q^{5} \\left(\\frac{2}{3} - \\frac{2 q}{3}\\right)^{3} \\cdot \\left(\\frac{2 q}{9} - \\frac{2}{9}\\right)}{243} + \\frac{20 q^{4} \\left(\\frac{1}{3} - \\frac{q}{3}\\right)^{2} \\left(\\frac{2}{3} - \\frac{2 q}{3}\\right)^{3}}{243}\\right)}{4 q^{5} \\left(\\frac{1}{3} - \\frac{q}{3}\\right)^{2} \\left(\\frac{2}{3} - \\frac{2 q}{3}\\right)^{3}}$"
      ],
      "text/plain": [
       "243*(-8*q**5*(1/3 - q/3)**2*(2/3 - 2*q/3)**2/243 + 4*q**5*(2/3 - 2*q/3)**3*(2*q/9 - 2/9)/243 + 20*q**4*(1/3 - q/3)**2*(2/3 - 2*q/3)**3/243)/(4*q**5*(1/3 - q/3)**2*(2/3 - 2*q/3)**3)"
      ]
     },
     "execution_count": 40,
     "metadata": {},
     "output_type": "execute_result"
    }
   ],
   "source": [
    "diff_likelood_2_q = diff(log_likelood,q)\n",
    "diff_likelood_2_q"
   ]
  },
  {
   "cell_type": "code",
   "execution_count": 50,
   "id": "ea9e3363",
   "metadata": {},
   "outputs": [
    {
     "name": "stdout",
     "output_type": "stream",
     "text": [
      "maximum likelihood for q is  1/2\n"
     ]
    }
   ],
   "source": [
    "ans2 = solve(diff_likelood_2_q,q)\n",
    "print(\"maximum likelihood for q is \",ans2[0])"
   ]
  },
  {
   "cell_type": "code",
   "execution_count": null,
   "id": "c9708238",
   "metadata": {},
   "outputs": [],
   "source": []
  },
  {
   "cell_type": "code",
   "execution_count": null,
   "id": "4b2a8206",
   "metadata": {},
   "outputs": [],
   "source": []
  },
  {
   "cell_type": "code",
   "execution_count": null,
   "id": "c7d21fd9",
   "metadata": {},
   "outputs": [],
   "source": []
  }
 ],
 "metadata": {
  "kernelspec": {
   "display_name": "Python 3 (ipykernel)",
   "language": "python",
   "name": "python3"
  },
  "language_info": {
   "codemirror_mode": {
    "name": "ipython",
    "version": 3
   },
   "file_extension": ".py",
   "mimetype": "text/x-python",
   "name": "python",
   "nbconvert_exporter": "python",
   "pygments_lexer": "ipython3",
   "version": "3.9.12"
  }
 },
 "nbformat": 4,
 "nbformat_minor": 5
}
